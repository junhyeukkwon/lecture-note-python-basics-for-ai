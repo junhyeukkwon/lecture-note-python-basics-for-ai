{
 "cells": [
  {
   "cell_type": "code",
   "execution_count": 1,
   "metadata": {
    "ExecuteTime": {
     "end_time": "2017-09-26T07:55:19.019196Z",
     "start_time": "2017-09-26T07:55:18.763021Z"
    }
   },
   "outputs": [],
   "source": [
    "import numpy as np"
   ]
  },
  {
   "cell_type": "markdown",
   "metadata": {},
   "source": [
    "#### boolean index <-> where은 index를 뽑아내기 위한 것이고, boolean은 조건에 맞는 값을 뽑기 위함."
   ]
  },
  {
   "cell_type": "code",
   "execution_count": 5,
   "metadata": {},
   "outputs": [
    {
     "data": {
      "text/plain": [
       "array([False,  True, False, False, False,  True,  True,  True])"
      ]
     },
     "execution_count": 5,
     "metadata": {},
     "output_type": "execute_result"
    }
   ],
   "source": [
    "test_array = np.array([1, 4, 0, 2, 3, 8, 9, 7], float)\n",
    "test_array > 3"
   ]
  },
  {
   "cell_type": "code",
   "execution_count": 6,
   "metadata": {},
   "outputs": [
    {
     "data": {
      "text/plain": [
       "array([1., 4., 0., 2., 3., 8., 9., 7.])"
      ]
     },
     "execution_count": 6,
     "metadata": {},
     "output_type": "execute_result"
    }
   ],
   "source": [
    "test_array"
   ]
  },
  {
   "cell_type": "code",
   "execution_count": 7,
   "metadata": {},
   "outputs": [
    {
     "data": {
      "text/plain": [
       "array([4., 8., 9., 7.])"
      ]
     },
     "execution_count": 7,
     "metadata": {},
     "output_type": "execute_result"
    }
   ],
   "source": [
    "test_array[test_array > 3]"
   ]
  },
  {
   "cell_type": "code",
   "execution_count": 8,
   "metadata": {},
   "outputs": [
    {
     "data": {
      "text/plain": [
       "array([1., 0., 2.])"
      ]
     },
     "execution_count": 8,
     "metadata": {},
     "output_type": "execute_result"
    }
   ],
   "source": [
    "condition = test_array < 3\n",
    "test_array[condition]"
   ]
  },
  {
   "cell_type": "code",
   "execution_count": 9,
   "metadata": {},
   "outputs": [
    {
     "name": "stderr",
     "output_type": "stream",
     "text": [
      "/tmp/ipykernel_653/2678169692.py:21: DeprecationWarning: `np.int` is a deprecated alias for the builtin `int`. To silence this warning, use `int` by itself. Doing this will not modify any behavior and is safe. When replacing `np.int`, you may wish to use e.g. `np.int64` or `np.int32` to specify the precision. If you wish to review your current use, check the release note link for additional information.\n",
      "Deprecated in NumPy 1.20; for more details and guidance: https://numpy.org/devdocs/release/1.20.0-notes.html#deprecations\n",
      "  B.astype(np.int)\n"
     ]
    },
    {
     "data": {
      "text/plain": [
       "array([[1, 1, 1, 1, 0, 1, 1, 1, 1],\n",
       "       [1, 1, 1, 0, 0, 0, 1, 1, 1],\n",
       "       [1, 1, 1, 0, 1, 0, 1, 1, 1],\n",
       "       [1, 1, 0, 0, 1, 0, 0, 1, 1],\n",
       "       [1, 1, 0, 1, 1, 1, 0, 1, 1],\n",
       "       [1, 0, 0, 1, 1, 1, 0, 0, 1],\n",
       "       [1, 0, 1, 1, 1, 1, 1, 0, 1],\n",
       "       [1, 0, 1, 1, 1, 1, 1, 0, 1],\n",
       "       [1, 0, 1, 1, 1, 1, 1, 0, 1],\n",
       "       [1, 0, 0, 0, 0, 0, 0, 0, 1],\n",
       "       [1, 0, 1, 1, 1, 1, 1, 0, 1],\n",
       "       [1, 0, 1, 1, 1, 1, 1, 0, 1],\n",
       "       [1, 0, 1, 1, 1, 1, 1, 0, 1],\n",
       "       [1, 0, 1, 1, 1, 1, 1, 0, 1],\n",
       "       [1, 0, 1, 1, 1, 1, 1, 0, 1]])"
      ]
     },
     "execution_count": 9,
     "metadata": {},
     "output_type": "execute_result"
    }
   ],
   "source": [
    "A = np.array(\n",
    "    [\n",
    "        [12, 13, 14, 12, 16, 14, 11, 10, 9],\n",
    "        [11, 14, 12, 15, 15, 16, 10, 12, 11],\n",
    "        [10, 12, 12, 15, 14, 16, 10, 12, 12],\n",
    "        [9, 11, 16, 15, 14, 16, 15, 12, 10],\n",
    "        [12, 11, 16, 14, 10, 12, 16, 12, 13],\n",
    "        [10, 15, 16, 14, 14, 14, 16, 15, 12],\n",
    "        [13, 17, 14, 10, 14, 11, 14, 15, 10],\n",
    "        [10, 16, 12, 14, 11, 12, 14, 18, 11],\n",
    "        [10, 19, 12, 14, 11, 12, 14, 18, 10],\n",
    "        [14, 22, 17, 19, 16, 17, 18, 17, 13],\n",
    "        [10, 16, 12, 14, 11, 12, 14, 18, 11],\n",
    "        [10, 16, 12, 14, 11, 12, 14, 18, 11],\n",
    "        [10, 19, 12, 14, 11, 12, 14, 18, 10],\n",
    "        [14, 22, 12, 14, 11, 12, 14, 17, 13],\n",
    "        [10, 16, 12, 14, 11, 12, 14, 18, 11],\n",
    "    ]\n",
    ")\n",
    "B = A < 15\n",
    "B.astype(np.int)"
   ]
  },
  {
   "cell_type": "markdown",
   "metadata": {},
   "source": [
    "#### fancy index"
   ]
  },
  {
   "cell_type": "code",
   "execution_count": 22,
   "metadata": {
    "ExecuteTime": {
     "end_time": "2017-09-26T07:56:27.093877Z",
     "start_time": "2017-09-26T07:56:27.088486Z"
    }
   },
   "outputs": [
    {
     "data": {
      "text/plain": [
       "array([2., 2., 4., 8., 6., 4.])"
      ]
     },
     "execution_count": 22,
     "metadata": {},
     "output_type": "execute_result"
    }
   ],
   "source": [
    "a = np.array([2, 4, 6, 8], float)\n",
    "b = np.array([0, 0, 1, 3, 2, 1], int) #반드시 integer로 선언 아무래도 index이니깐\n",
    "a[b] #bracket index, b 배열의 값을 index로 하여 a의 값들을 추출함"
   ]
  },
  {
   "cell_type": "code",
   "execution_count": 21,
   "metadata": {
    "ExecuteTime": {
     "end_time": "2017-09-26T07:56:49.516123Z",
     "start_time": "2017-09-26T07:56:49.511849Z"
    }
   },
   "outputs": [
    {
     "data": {
      "text/plain": [
       "array([2., 2., 4., 8., 6., 4.])"
      ]
     },
     "execution_count": 21,
     "metadata": {},
     "output_type": "execute_result"
    }
   ],
   "source": [
    "a.take(b) #take 함수: bracket index와 같은 효과"
   ]
  },
  {
   "cell_type": "code",
   "execution_count": 18,
   "metadata": {
    "ExecuteTime": {
     "end_time": "2017-09-26T07:56:49.516123Z",
     "start_time": "2017-09-26T07:56:49.511849Z"
    }
   },
   "outputs": [
    {
     "data": {
      "text/plain": [
       "array([6., 8.])"
      ]
     },
     "execution_count": 18,
     "metadata": {},
     "output_type": "execute_result"
    }
   ],
   "source": [
    "a[a > 4]"
   ]
  },
  {
   "cell_type": "code",
   "execution_count": 19,
   "metadata": {},
   "outputs": [
    {
     "data": {
      "text/plain": [
       "array([2., 2., 4., 8., 6., 4.])"
      ]
     },
     "execution_count": 19,
     "metadata": {},
     "output_type": "execute_result"
    }
   ],
   "source": [
    "a.take(b)  # take 함수: bracket index와 같은 효과"
   ]
  },
  {
   "cell_type": "code",
   "execution_count": 32,
   "metadata": {
    "ExecuteTime": {
     "end_time": "2017-09-26T08:07:39.227361Z",
     "start_time": "2017-09-26T08:07:39.220987Z"
    }
   },
   "outputs": [
    {
     "data": {
      "text/plain": [
       "array([ 1.,  4., 16., 16.,  4.])"
      ]
     },
     "execution_count": 32,
     "metadata": {},
     "output_type": "execute_result"
    }
   ],
   "source": [
    "a = np.array([[1, 4], [9, 16]], float)\n",
    "b = np.array([0, 0, 1, 1, 0], int)\n",
    "c = np.array([0, 1, 1, 1, 1], int)\n",
    "a[b, c]  # b를 row index, c를 column index로 변환하여 표시함"
   ]
  },
  {
   "cell_type": "code",
   "execution_count": 33,
   "metadata": {
    "ExecuteTime": {
     "end_time": "2017-09-26T08:07:54.769627Z",
     "start_time": "2017-09-26T08:07:54.763965Z"
    }
   },
   "outputs": [
    {
     "data": {
      "text/plain": [
       "array([[ 1.,  4.],\n",
       "       [ 1.,  4.],\n",
       "       [ 9., 16.],\n",
       "       [ 9., 16.],\n",
       "       [ 1.,  4.]])"
      ]
     },
     "execution_count": 33,
     "metadata": {},
     "output_type": "execute_result"
    }
   ],
   "source": [
    "a = np.array([[1, 4], [9, 16]], float)\n",
    "a[b]"
   ]
  }
 ],
 "metadata": {
  "anaconda-cloud": {},
  "kernelspec": {
   "display_name": "Python 3 (ipykernel)",
   "language": "python",
   "name": "python3"
  },
  "language_info": {
   "codemirror_mode": {
    "name": "ipython",
    "version": 3
   },
   "file_extension": ".py",
   "mimetype": "text/x-python",
   "name": "python",
   "nbconvert_exporter": "python",
   "pygments_lexer": "ipython3",
   "version": "3.9.12"
  },
  "nav_menu": {},
  "toc": {
   "navigate_menu": true,
   "number_sections": true,
   "sideBar": true,
   "threshold": 6,
   "toc_cell": false,
   "toc_section_display": "block",
   "toc_window_display": false
  }
 },
 "nbformat": 4,
 "nbformat_minor": 4
}
